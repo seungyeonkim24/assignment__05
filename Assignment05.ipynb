{
 "cells": [
  {
   "cell_type": "markdown",
   "id": "098ea67d",
   "metadata": {},
   "source": [
    "## 과제3"
   ]
  },
  {
   "cell_type": "code",
   "execution_count": 18,
   "id": "9e564e1c",
   "metadata": {},
   "outputs": [],
   "source": [
    "\n",
    "\n",
    "class Heap:\n",
    "    def __init__(self, *args):\n",
    "        if len(args) != 0:\n",
    "            self._A = args[0]  # 리스트로 초기화\n",
    "        else:\n",
    "            self._A = []\n",
    "\n",
    "    def __len__(self):\n",
    "        return len(self._A)\n",
    "\n",
    "    def insert(self, x):\n",
    "        self._A.append(x)\n",
    "        self._percolateUp(len(self._A) - 1)\n",
    "\n",
    "    def _percolateUp(self, i):\n",
    "        parent = (i - 1) // 2\n",
    "        if i > 0 and self._A[i] < self._A[parent]:\n",
    "            self._A[i], self._A[parent] = self._A[parent], self._A[i]\n",
    "            self._percolateUp(parent)\n",
    "\n",
    "    def deleteMin(self):\n",
    "        if not self.isEmpty():\n",
    "            self._A[0], self._A[-1] = self._A[-1], self._A[0]\n",
    "            item = self._A.pop()\n",
    "            self._percolateDown(0)\n",
    "            return item\n",
    "        else:\n",
    "            return None\n",
    "\n",
    "    def _percolateDown(self, i):\n",
    "        child = 2 * i + 1\n",
    "        right = 2 * i + 2\n",
    "        if child < len(self._A):\n",
    "            if right < len(self._A) and self._A[child] > self._A[right]:\n",
    "                child = right\n",
    "            if self._A[i] > self._A[child]:\n",
    "                self._A[i], self._A[child] = self._A[child], self._A[i]\n",
    "                self._percolateDown(child)\n",
    "\n",
    "    def min(self):\n",
    "        return self._A[0]\n",
    "\n",
    "    def buildHeap(self):\n",
    "        for i in range((len(self._A) - 2) // 2, -1, -1):\n",
    "            self._percolateDown(i)\n",
    "\n",
    "    def isEmpty(self) -> bool:\n",
    "        return len(self._A) == 0\n",
    "\n",
    "    def clear(self):\n",
    "        self._A = []\n",
    "\n",
    "    def size(self) -> int:\n",
    "        return len(self._A)\n"
   ]
  },
  {
   "cell_type": "code",
   "execution_count": 19,
   "id": "607f80ef",
   "metadata": {},
   "outputs": [],
   "source": [
    "# birthday.csv 읽고 힙 사용 예제\n",
    "import csv\n",
    "from datetime import datetime"
   ]
  },
  {
   "cell_type": "code",
   "execution_count": 20,
   "id": "b2e75968",
   "metadata": {},
   "outputs": [],
   "source": [
    "my_team_names = [\"김승연\", \"이서영\", \"이아현\", \"임성민\", \"은유빈\", \"이예은\", \"정예은\", \"김주원\", \"서홍빈\", \"권보은\"]"
   ]
  },
  {
   "cell_type": "code",
   "execution_count": 21,
   "id": "e5bffed8",
   "metadata": {},
   "outputs": [],
   "source": [
    "birthday_list = []\n",
    "added_names = set()  # 중복 방지"
   ]
  },
  {
   "cell_type": "code",
   "execution_count": 22,
   "id": "e2d58544",
   "metadata": {},
   "outputs": [],
   "source": [
    "with open('birthday.csv', 'r', encoding='cp949') as file:\n",
    "    reader = csv.DictReader(file)\n",
    "    for row in reader:\n",
    "        name = row['이름'].strip()\n",
    "        birth_raw = row['생년월일'].strip()\n",
    "\n",
    "        if name not in my_team_names:\n",
    "            continue  # 조원만\n",
    "\n",
    "        if name in added_names:\n",
    "            continue  # 같은 조원 중복 방지\n",
    "\n",
    "        if not birth_raw or not birth_raw.isdigit():\n",
    "            continue  # 생일이 비어있거나 숫자가 아님\n",
    "\n",
    "        try:\n",
    "            birthdate = datetime.strptime(birth_raw, \"%Y%m%d\")\n",
    "        except ValueError:\n",
    "            print(f\"잘못된 생일 데이터 → 이름: {name}, 생일: {birth_raw}\")\n",
    "            continue\n",
    "\n",
    "        birthday_list.append((-birthdate.timestamp(), name, birth_raw))\n",
    "        added_names.add(name)  # 이 조원은 이미 추가했음"
   ]
  },
  {
   "cell_type": "code",
   "execution_count": 23,
   "id": "e890aa54",
   "metadata": {},
   "outputs": [],
   "source": [
    "h = Heap(birthday_list)\n",
    "h.buildHeap()"
   ]
  },
  {
   "cell_type": "code",
   "execution_count": 24,
   "id": "1a9cfc87",
   "metadata": {},
   "outputs": [
    {
     "name": "stdout",
     "output_type": "stream",
     "text": [
      "생일이 늦은 순서 Top 10:\n",
      "이서영 - 20051112\n",
      "서홍빈 - 20051024\n",
      "권보은 - 20041004\n",
      "은유빈 - 20040503\n",
      "정예은 - 20030428\n",
      "김승연 - 20030124\n",
      "김주원 - 20030110\n",
      "이예은 - 20030109\n",
      "임성민 - 20021213\n",
      "이아현 - 20010904\n"
     ]
    }
   ],
   "source": [
    "print(\"생일이 늦은 순서 Top 10:\")\n",
    "for _ in range(10):\n",
    "    if not h.isEmpty():\n",
    "        _, name, date = h.deleteMin()\n",
    "        print(f\"{name} - {date}\")"
   ]
  },
  {
   "cell_type": "markdown",
   "id": "5a1b42c6",
   "metadata": {},
   "source": [
    "## 과제4"
   ]
  },
  {
   "cell_type": "code",
   "execution_count": 25,
   "id": "0911e6ec",
   "metadata": {},
   "outputs": [],
   "source": [
    "# 조원 명단\n",
    "my_team_names = [\"김승연\", \"이서영\", \"이아현\", \"임성민\", \"은유빈\", \"이예은\", \"정예은\", \"김주원\", \"서홍빈\", \"권보은\"]\n"
   ]
  },
  {
   "cell_type": "code",
   "execution_count": 26,
   "id": "0bb7a553",
   "metadata": {},
   "outputs": [],
   "source": [
    "class BidirectNode:\n",
    "    def __init__(self, x, prevNode=None, nextNode=None):\n",
    "        self.item = x\n",
    "        self.prev = prevNode\n",
    "        self.next = nextNode\n",
    "\n",
    "class CircularDoublyLinkedList:\n",
    "    def __init__(self):\n",
    "        self.__head = BidirectNode(\"dummy\", None, None)\n",
    "        self.__head.prev = self.__head\n",
    "        self.__head.next = self.__head\n",
    "        self.__numItems = 0\n",
    "\n",
    "    def insert(self, i: int, newItem) -> None:\n",
    "        if i >= 0 and i <= self.__numItems:\n",
    "            prev = self.__getNode(i - 1)\n",
    "            newNode = BidirectNode(newItem, prev, prev.next)\n",
    "            newNode.next.prev = newNode\n",
    "            prev.next = newNode\n",
    "            self.__numItems += 1\n",
    "        else:\n",
    "            print(\"Index out of bound in insert()\")\n",
    "\n",
    "    def append(self, newItem) -> None:\n",
    "        prev = self.__head.prev\n",
    "        newNode = BidirectNode(newItem, prev, self.__head)\n",
    "        prev.next = newNode\n",
    "        self.__head.prev = newNode\n",
    "        self.__numItems += 1\n",
    "\n",
    "    def pop(self, *args):\n",
    "        if len(args) != 0:\n",
    "            i = args[0]\n",
    "            if i >= 0 and i <= self.__numItems - 1:\n",
    "                prev = self.__getNode(i - 1)\n",
    "                curr = prev.next\n",
    "                prev.next = curr.next\n",
    "                curr.next.prev = prev\n",
    "                self.__numItems -= 1\n",
    "                return curr.item\n",
    "        else:\n",
    "            prev = self.__head.prev\n",
    "            if prev == self.__head:\n",
    "                return None\n",
    "            prev.prev.next = self.__head\n",
    "            self.__head.prev = prev.prev\n",
    "            self.__numItems -= 1\n",
    "            return prev.item\n",
    "\n",
    "    def get(self, i: int):\n",
    "        if i >= 0 and i <= self.__numItems - 1:\n",
    "            return self.__getNode(i).item\n",
    "        else:\n",
    "            return None\n",
    "\n",
    "    def index(self, x) -> int:\n",
    "        cnt = 0\n",
    "        for element in self:\n",
    "            if element == x:\n",
    "                return cnt\n",
    "            cnt += 1\n",
    "        return -12345\n",
    "\n",
    "    def isEmpty(self) -> bool:\n",
    "        return self.__numItems == 0\n",
    "\n",
    "    def size(self) -> int:\n",
    "        return self.__numItems\n",
    "\n",
    "    def clear(self):\n",
    "        self.__head = BidirectNode(\"dummy\", None, None)\n",
    "        self.__head.prev = self.__head\n",
    "        self.__head.next = self.__head\n",
    "        self.__numItems = 0\n",
    "\n",
    "    def copy(self) -> list:\n",
    "        a = []\n",
    "        for element in self:\n",
    "            a.append(element)\n",
    "        return a\n",
    "\n",
    "    def copyList(self):\n",
    "        a = CircularDoublyLinkedList()\n",
    "        for element in self:\n",
    "            a.append(element)\n",
    "        return a\n",
    "\n",
    "    def reverse(self) -> None:\n",
    "        curr = self.__head\n",
    "        prev = curr.prev\n",
    "        next = curr.next\n",
    "        for _ in range(self.__numItems + 1):\n",
    "            curr.prev = next\n",
    "            curr.next = prev\n",
    "            curr = next\n",
    "            next = curr.next\n",
    "            prev = curr.prev\n",
    "\n",
    "    def sort(self) -> None:\n",
    "        a = []\n",
    "        for element in self:\n",
    "            a.append(element)\n",
    "        a.sort()\n",
    "        self.clear()\n",
    "        for element in a:\n",
    "            self.append(element)\n",
    "\n",
    "    def __findNode(self, x) -> BidirectNode:\n",
    "        curr = self.__head.next\n",
    "        while curr != self.__head:\n",
    "            if curr.item == x:\n",
    "                return curr\n",
    "            curr = curr.next\n",
    "        return None\n",
    "\n",
    "    def __getNode(self, i: int) -> BidirectNode:\n",
    "        curr = self.__head\n",
    "        for _ in range(i + 1):\n",
    "            curr = curr.next\n",
    "        return curr\n",
    "\n",
    "    def printList(self) -> None:\n",
    "        for element in self:\n",
    "            print(element, end=' ')\n",
    "        print()\n",
    "\n",
    "    def __iter__(self):\n",
    "        return CircularDoublyLinkedListIterator(self)\n",
    "    \n",
    "    # 외부에서도 접근 가능한 wrapper 함수 추가\n",
    "    def getNode(self, i: int) -> object:\n",
    "        return self.__getNode(i)\n",
    "\n",
    "\n",
    "class CircularDoublyLinkedListIterator:\n",
    "    def __init__(self, alist):\n",
    "        self.__head = alist.getNode(-1)\n",
    "        self.iterPosition = self.__head.next\n",
    "\n",
    "    def __next__(self):\n",
    "        if self.iterPosition == self.__head:\n",
    "            raise StopIteration\n",
    "        else:\n",
    "            item = self.iterPosition.item\n",
    "            self.iterPosition = self.iterPosition.next\n",
    "            return item\n"
   ]
  },
  {
   "cell_type": "code",
   "execution_count": 27,
   "id": "998fa48c",
   "metadata": {},
   "outputs": [],
   "source": [
    "# 조원 명단\n",
    "my_team_names = [\"김승연\", \"이서영\", \"이아현\", \"임성민\", \"은유빈\", \"이예은\", \"정예은\", \"김주원\", \"서홍빈\", \"권보은\"]\n"
   ]
  },
  {
   "cell_type": "code",
   "execution_count": 28,
   "id": "049c0e38",
   "metadata": {},
   "outputs": [],
   "source": [
    "# 이중 연결 리스트 초기화\n",
    "friends_list = CircularDoublyLinkedList()"
   ]
  },
  {
   "cell_type": "code",
   "execution_count": 29,
   "id": "73a41e59",
   "metadata": {},
   "outputs": [],
   "source": [
    "# 파일 열기\n",
    "with open('birthday.csv', 'r', encoding='cp949') as file:\n",
    "    reader = csv.DictReader(file)\n",
    "    for row in reader:\n",
    "        name = row['이름']\n",
    "        student_id = row['학번'][-2:]  # 끝 두 자리 확인\n",
    "        birthday = row['생년월일']\n",
    "\n",
    "                # 조원 이름 중복 처리\n",
    "        if name == \"이서영\":\n",
    "            if student_id != '42':\n",
    "                continue  # 학번이 42가 아닌 이서영은 제외\n",
    "\n",
    "        if name in my_team_names:\n",
    "            friends_list.append((name, birthday))"
   ]
  },
  {
   "cell_type": "code",
   "execution_count": 30,
   "id": "e5f4c39e",
   "metadata": {},
   "outputs": [
    {
     "name": "stdout",
     "output_type": "stream",
     "text": [
      "우리 조 친구들의 이름과 생일:\n",
      "권보은 - 20041004\n",
      "김승연 - 20030124\n",
      "김주원 - 20030110\n",
      "서홍빈 - 20051024\n",
      "은유빈 - 20040503\n",
      "이서영 - 20051225\n",
      "이아현 - 20010904\n",
      "이예은 - 20030109\n",
      "임성민 - 20021213\n",
      "정예은 - 20030428\n"
     ]
    }
   ],
   "source": [
    "print(\"우리 조 친구들의 이름과 생일:\")\n",
    "for friend in friends_list:\n",
    "    print(f\"{friend[0]} - {friend[1]}\")"
   ]
  },
  {
   "cell_type": "markdown",
   "id": "1d1fbe89",
   "metadata": {},
   "source": [
    "## 과제5"
   ]
  },
  {
   "cell_type": "markdown",
   "id": "39dc78f8",
   "metadata": {},
   "source": [
    "문제1"
   ]
  },
  {
   "cell_type": "markdown",
   "id": "9e671765",
   "metadata": {},
   "source": [
    "### 1번. 최소 힙 조건을 만족하는지?\n",
    "\n",
    "리스트 `A = [10, 20, 30, 40, 50, 60, 70]`는 완전 이진 트리 구조라고 가정했을 때,\n",
    "\n",
    "- 부모가 항상 자식보다 작아야 최소 힙 조건을 만족함.\n",
    "- 인덱스 `i`의 자식은 `2i + 1`(왼쪽), `2i + 2`(오른쪽)\n",
    "\n",
    "검사 결과:\n",
    "- `10 < 20`, `10 < 30`\n",
    "- `20 < 40`, `20 < 50`\n",
    "- `30 < 60`, `30 < 70`\n",
    "\n",
    "모두 만족하므로 **최소 힙이 맞다.**\n"
   ]
  },
  {
   "cell_type": "markdown",
   "id": "4cc83784",
   "metadata": {},
   "source": [
    "문제2"
   ]
  },
  {
   "cell_type": "markdown",
   "id": "7b44c964",
   "metadata": {},
   "source": [
    "### 2번. 최대 힙 만들기 (heapify)\n",
    "\n",
    "리스트 `A = [60, 50, 40, 30, 20, 10]`는 정렬된 상태지만, heapify 연산은 아래에서 위로 percolate-down하면서 정렬됨.\n",
    "\n",
    "최대 힙을 만들기 위해 `buildHeap()` 수행 시:\n",
    "- 노드 수가 n일 때, O(n) 시간 복잡도로 정렬 가능\n",
    "- 이 과정에서 swap이 발생하는 횟수를 묻는 것\n",
    "\n",
    "정확한 횟수는 구현을 통해 알아볼 수 있음:\n"
   ]
  },
  {
   "cell_type": "code",
   "execution_count": 31,
   "id": "ea77ddb2",
   "metadata": {},
   "outputs": [
    {
     "name": "stdout",
     "output_type": "stream",
     "text": [
      "최대 힙: [60, 50, 40, 30, 20, 10]\n",
      "필요한 swap 횟수: 0\n"
     ]
    }
   ],
   "source": [
    "# 구현을 통한 swap 횟수 확인\n",
    "swap_count = 0\n",
    "\n",
    "def percolateDown(A, i, n):\n",
    "    global swap_count\n",
    "    child = 2*i + 1\n",
    "    while child < n:\n",
    "        right = child + 1\n",
    "        if right < n and A[right] > A[child]:\n",
    "            child = right\n",
    "        if A[i] < A[child]:\n",
    "            A[i], A[child] = A[child], A[i]\n",
    "            swap_count += 1\n",
    "            i = child\n",
    "            child = 2*i + 1\n",
    "        else:\n",
    "            break\n",
    "\n",
    "A = [60, 50, 40, 30, 20, 10]\n",
    "n = len(A)\n",
    "for i in range((n - 2)//2, -1, -1):\n",
    "    percolateDown(A, i, n)\n",
    "\n",
    "print(\"최대 힙:\", A)\n",
    "print(\"필요한 swap 횟수:\", swap_count)\n"
   ]
  },
  {
   "cell_type": "markdown",
   "id": "8bba879b",
   "metadata": {},
   "source": [
    "문제3"
   ]
  },
  {
   "cell_type": "markdown",
   "id": "ea591338",
   "metadata": {},
   "source": [
    "### 3번. 최소 힙에서 루트 제거 후 재구성 과정 설명\n",
    "\n",
    "1. 루트(최소값)를 삭제\n",
    "2. 마지막 요소를 루트 자리에 이동\n",
    "3. percolateDown 수행 → 자식 중 더 작은 값과 교환하며 아래로 내려감\n",
    "\n",
    "이 과정을 반복하여 다시 최소 힙 성질을 만족하게 함.\n"
   ]
  },
  {
   "cell_type": "markdown",
   "id": "f8084007",
   "metadata": {},
   "source": [
    "문제4"
   ]
  },
  {
   "cell_type": "markdown",
   "id": "f252caac",
   "metadata": {},
   "source": [
    "### 4번. buildHeap 과정 시뮬레이션\n",
    "\n",
    "초기 리스트: A = [10, 50, 20, 40, 60, 30]\n",
    "\n",
    "1. 마지막 부모 인덱스 = (n-2)//2 = 2\n",
    "2. percolateDown(2), then (1), then (0)\n"
   ]
  },
  {
   "cell_type": "code",
   "execution_count": 32,
   "id": "73925bb6",
   "metadata": {},
   "outputs": [
    {
     "name": "stdout",
     "output_type": "stream",
     "text": [
      "percolateDown(2) 전: [10, 50, 20, 40, 60, 30]\n",
      "percolateDown(2) 후: [10, 50, 20, 40, 60, 30]\n",
      "percolateDown(1) 전: [10, 50, 20, 40, 60, 30]\n",
      "percolateDown(1) 후: [10, 40, 20, 50, 60, 30]\n",
      "percolateDown(0) 전: [10, 40, 20, 50, 60, 30]\n",
      "percolateDown(0) 후: [10, 40, 20, 50, 60, 30]\n"
     ]
    }
   ],
   "source": [
    "A = [10, 50, 20, 40, 60, 30]\n",
    "\n",
    "def show_percolate_steps(A):\n",
    "    def percolateDown(A, i, n):\n",
    "        child = 2*i + 1\n",
    "        while child < n:\n",
    "            right = child + 1\n",
    "            if right < n and A[right] < A[child]:\n",
    "                child = right\n",
    "            if A[i] > A[child]:\n",
    "                A[i], A[child] = A[child], A[i]\n",
    "                i = child\n",
    "                child = 2*i + 1\n",
    "            else:\n",
    "                break\n",
    "\n",
    "    n = len(A)\n",
    "    for i in range((n - 2)//2, -1, -1):\n",
    "        print(f\"percolateDown({i}) 전: {A}\")\n",
    "        percolateDown(A, i, n)\n",
    "        print(f\"percolateDown({i}) 후: {A}\")\n",
    "\n",
    "show_percolate_steps([10, 50, 20, 40, 60, 30])\n"
   ]
  },
  {
   "cell_type": "markdown",
   "id": "51b16b1f",
   "metadata": {},
   "source": [
    "문제5"
   ]
  },
  {
   "cell_type": "markdown",
   "id": "7f272780",
   "metadata": {},
   "source": [
    "### 5번. 힙에 요소 삽입 과정\n",
    "\n",
    "1. 힙의 마지막에 새로운 요소 추가\n",
    "2. percolateUp 수행\n",
    "   - 부모 노드보다 작으면 교환하며 위로 올라감 (min heap 기준)\n",
    "3. 최소 힙 성질 유지\n"
   ]
  },
  {
   "cell_type": "markdown",
   "id": "5287928d",
   "metadata": {},
   "source": [
    "문제6"
   ]
  },
  {
   "cell_type": "markdown",
   "id": "51429ec2",
   "metadata": {},
   "source": [
    "### 6번. 힙 정렬(heap sort) 설명\n",
    "\n",
    "1. buildHeap(): 전체 리스트를 힙 구조로 만듦 (O(n))\n",
    "2. 루트를 하나씩 꺼내어 정렬된 위치에 삽입\n",
    "   - 루트를 꺼낸 뒤 마지막 요소를 루트로 옮기고 percolateDown 수행\n",
    "3. 총 시간 복잡도: O(n log n)\n",
    "4. 힙은 in-place 정렬 알고리즘 (추가 메모리 거의 필요 없음)\n"
   ]
  },
  {
   "cell_type": "markdown",
   "id": "84bf5434",
   "metadata": {},
   "source": [
    "문제7"
   ]
  },
  {
   "cell_type": "markdown",
   "id": "8b555dfe",
   "metadata": {},
   "source": [
    "### 7번. 힙 정렬 vs 퀵 정렬\n",
    "\n",
    "| 기준 | 힙 정렬 | 퀵 정렬 |\n",
    "|------|----------|----------|\n",
    "| 평균 시간복잡도 | O(n log n) | O(n log n) |\n",
    "| 최악 시간복잡도 | O(n log n) | O(n²) |\n",
    "| 메모리 사용 | O(1) (in-place) | O(log n) (재귀 스택) |\n",
    "| 안정성 | 비안정 정렬 | 비안정 정렬 |\n",
    "| 실제 속도 | 느릴 수 있음 | 일반적으로 빠름 |\n",
    "\n",
    "✅ **결론**: 퀵 정렬이 대부분 더 빠르지만, 힙 정렬은 **최악의 경우에도 시간 보장이 있음**."
   ]
  },
  {
   "cell_type": "markdown",
   "id": "ac238dfc",
   "metadata": {},
   "source": [
    "## "
   ]
  },
  {
   "cell_type": "markdown",
   "id": "b70a0b5c",
   "metadata": {},
   "source": [
    "## 과제6"
   ]
  },
  {
   "cell_type": "code",
   "execution_count": 33,
   "id": "0742b1af",
   "metadata": {},
   "outputs": [],
   "source": [
    "import heapq  # heapq는 기본적으로 최소 힙(min heap)을 제공\n",
    "\n",
    "class KthLargest:\n",
    "\n",
    "    def __init__(self, k: int, nums: list[int]):\n",
    "        self.k = k\n",
    "        self.heap = nums\n",
    "        heapq.heapify(self.heap)  # 최소 힙 생성\n",
    "\n",
    "        # 힙 크기가 k 초과하면 가장 작은 원소 제거\n",
    "        while len(self.heap) > k:\n",
    "            heapq.heappop(self.heap)\n",
    "\n",
    "    def add(self, val: int) -> int:\n",
    "        heapq.heappush(self.heap, val)\n",
    "        if len(self.heap) > self.k:\n",
    "            heapq.heappop(self.heap)\n",
    "        return self.heap[0]  # 현재 k번째로 큰 값\n"
   ]
  },
  {
   "cell_type": "code",
   "execution_count": null,
   "id": "23eb252f",
   "metadata": {},
   "outputs": [],
   "source": []
  }
 ],
 "metadata": {
  "kernelspec": {
   "display_name": "Python 3",
   "language": "python",
   "name": "python3"
  },
  "language_info": {
   "codemirror_mode": {
    "name": "ipython",
    "version": 3
   },
   "file_extension": ".py",
   "mimetype": "text/x-python",
   "name": "python",
   "nbconvert_exporter": "python",
   "pygments_lexer": "ipython3",
   "version": "3.9.13"
  }
 },
 "nbformat": 4,
 "nbformat_minor": 5
}
